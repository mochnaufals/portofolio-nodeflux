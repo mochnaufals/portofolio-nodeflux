{
 "cells": [
  {
   "cell_type": "markdown",
   "id": "7fdd1662-366c-4aab-b86c-bb1774a95c2d",
   "metadata": {},
   "source": [
    "<b>Mochammad Naufal Septifiandi</b><br>\n",
    "<b><u>101319002</u></b>"
   ]
  },
  {
   "cell_type": "code",
   "execution_count": 1,
   "id": "d7908dcd-b89e-4b11-be0b-54f582b240db",
   "metadata": {},
   "outputs": [],
   "source": [
    "import numpy as np\n",
    "import matplotlib.pyplot as plt\n",
    "import pandas as pd"
   ]
  },
  {
   "cell_type": "markdown",
   "id": "953db301-6f9a-4988-a70c-b6016c4027f6",
   "metadata": {
    "tags": []
   },
   "source": [
    "# 1. Data Preprocessing"
   ]
  },
  {
   "cell_type": "markdown",
   "id": "71137d53-3173-4d47-b625-6eb136fa6e90",
   "metadata": {},
   "source": [
    "## Import Data"
   ]
  },
  {
   "cell_type": "code",
   "execution_count": 5,
   "id": "b92b28fc-4d20-46b6-b6f0-d3edb493458f",
   "metadata": {},
   "outputs": [
    {
     "data": {
      "text/html": [
       "<div>\n",
       "<style scoped>\n",
       "    .dataframe tbody tr th:only-of-type {\n",
       "        vertical-align: middle;\n",
       "    }\n",
       "\n",
       "    .dataframe tbody tr th {\n",
       "        vertical-align: top;\n",
       "    }\n",
       "\n",
       "    .dataframe thead th {\n",
       "        text-align: right;\n",
       "    }\n",
       "</style>\n",
       "<table border=\"1\" class=\"dataframe\">\n",
       "  <thead>\n",
       "    <tr style=\"text-align: right;\">\n",
       "      <th></th>\n",
       "      <th>GR_API</th>\n",
       "      <th>Bulk Density, gcc</th>\n",
       "      <th>Resistivity, ohm-m</th>\n",
       "      <th>Water Saturation, fraction</th>\n",
       "      <th>PhiH, ft</th>\n",
       "      <th>TOC, fraction</th>\n",
       "      <th>TVD, ft</th>\n",
       "    </tr>\n",
       "  </thead>\n",
       "  <tbody>\n",
       "    <tr>\n",
       "      <th>0</th>\n",
       "      <td>118</td>\n",
       "      <td>2.2096</td>\n",
       "      <td>23</td>\n",
       "      <td>0.13</td>\n",
       "      <td>23</td>\n",
       "      <td>0.077</td>\n",
       "      <td>10670</td>\n",
       "    </tr>\n",
       "    <tr>\n",
       "      <th>1</th>\n",
       "      <td>170</td>\n",
       "      <td>2.2185</td>\n",
       "      <td>21</td>\n",
       "      <td>0.17</td>\n",
       "      <td>20</td>\n",
       "      <td>0.073</td>\n",
       "      <td>9932</td>\n",
       "    </tr>\n",
       "    <tr>\n",
       "      <th>2</th>\n",
       "      <td>166</td>\n",
       "      <td>2.2260</td>\n",
       "      <td>14</td>\n",
       "      <td>0.20</td>\n",
       "      <td>21</td>\n",
       "      <td>0.070</td>\n",
       "      <td>9747</td>\n",
       "    </tr>\n",
       "    <tr>\n",
       "      <th>3</th>\n",
       "      <td>166</td>\n",
       "      <td>2.2260</td>\n",
       "      <td>14</td>\n",
       "      <td>0.20</td>\n",
       "      <td>21</td>\n",
       "      <td>0.070</td>\n",
       "      <td>9747</td>\n",
       "    </tr>\n",
       "    <tr>\n",
       "      <th>4</th>\n",
       "      <td>135</td>\n",
       "      <td>2.2303</td>\n",
       "      <td>22</td>\n",
       "      <td>0.16</td>\n",
       "      <td>24</td>\n",
       "      <td>0.068</td>\n",
       "      <td>9222</td>\n",
       "    </tr>\n",
       "    <tr>\n",
       "      <th>...</th>\n",
       "      <td>...</td>\n",
       "      <td>...</td>\n",
       "      <td>...</td>\n",
       "      <td>...</td>\n",
       "      <td>...</td>\n",
       "      <td>...</td>\n",
       "      <td>...</td>\n",
       "    </tr>\n",
       "    <tr>\n",
       "      <th>433</th>\n",
       "      <td>123</td>\n",
       "      <td>2.2307</td>\n",
       "      <td>24</td>\n",
       "      <td>0.14</td>\n",
       "      <td>22</td>\n",
       "      <td>0.068</td>\n",
       "      <td>9605</td>\n",
       "    </tr>\n",
       "    <tr>\n",
       "      <th>434</th>\n",
       "      <td>141</td>\n",
       "      <td>2.2598</td>\n",
       "      <td>20</td>\n",
       "      <td>0.20</td>\n",
       "      <td>19</td>\n",
       "      <td>0.056</td>\n",
       "      <td>10086</td>\n",
       "    </tr>\n",
       "    <tr>\n",
       "      <th>435</th>\n",
       "      <td>157</td>\n",
       "      <td>2.2616</td>\n",
       "      <td>20</td>\n",
       "      <td>0.17</td>\n",
       "      <td>18</td>\n",
       "      <td>0.055</td>\n",
       "      <td>9008</td>\n",
       "    </tr>\n",
       "    <tr>\n",
       "      <th>436</th>\n",
       "      <td>142</td>\n",
       "      <td>2.2523</td>\n",
       "      <td>14</td>\n",
       "      <td>0.21</td>\n",
       "      <td>22</td>\n",
       "      <td>0.059</td>\n",
       "      <td>10397</td>\n",
       "    </tr>\n",
       "    <tr>\n",
       "      <th>437</th>\n",
       "      <td>148</td>\n",
       "      <td>2.2331</td>\n",
       "      <td>19</td>\n",
       "      <td>0.17</td>\n",
       "      <td>24</td>\n",
       "      <td>0.067</td>\n",
       "      <td>9390</td>\n",
       "    </tr>\n",
       "  </tbody>\n",
       "</table>\n",
       "<p>438 rows × 7 columns</p>\n",
       "</div>"
      ],
      "text/plain": [
       "     GR_API  Bulk Density, gcc  Resistivity, ohm-m  \\\n",
       "0       118             2.2096                  23   \n",
       "1       170             2.2185                  21   \n",
       "2       166             2.2260                  14   \n",
       "3       166             2.2260                  14   \n",
       "4       135             2.2303                  22   \n",
       "..      ...                ...                 ...   \n",
       "433     123             2.2307                  24   \n",
       "434     141             2.2598                  20   \n",
       "435     157             2.2616                  20   \n",
       "436     142             2.2523                  14   \n",
       "437     148             2.2331                  19   \n",
       "\n",
       "     Water Saturation, fraction  PhiH, ft  TOC, fraction  TVD, ft  \n",
       "0                          0.13        23          0.077    10670  \n",
       "1                          0.17        20          0.073     9932  \n",
       "2                          0.20        21          0.070     9747  \n",
       "3                          0.20        21          0.070     9747  \n",
       "4                          0.16        24          0.068     9222  \n",
       "..                          ...       ...            ...      ...  \n",
       "433                        0.14        22          0.068     9605  \n",
       "434                        0.20        19          0.056    10086  \n",
       "435                        0.17        18          0.055     9008  \n",
       "436                        0.21        22          0.059    10397  \n",
       "437                        0.17        24          0.067     9390  \n",
       "\n",
       "[438 rows x 7 columns]"
      ]
     },
     "execution_count": 5,
     "metadata": {},
     "output_type": "execute_result"
    }
   ],
   "source": [
    "df = pd.read_excel('Chapter4_Geologic_DataSet.xlsx')\n",
    "df"
   ]
  },
  {
   "cell_type": "markdown",
   "id": "150ba23e-c649-4dcf-acbe-bbbd62ee551d",
   "metadata": {},
   "source": [
    "## Statistics"
   ]
  },
  {
   "cell_type": "code",
   "execution_count": 6,
   "id": "5cacb16b-c542-4868-983b-a4d18823f527",
   "metadata": {
    "tags": []
   },
   "outputs": [
    {
     "data": {
      "text/html": [
       "<div>\n",
       "<style scoped>\n",
       "    .dataframe tbody tr th:only-of-type {\n",
       "        vertical-align: middle;\n",
       "    }\n",
       "\n",
       "    .dataframe tbody tr th {\n",
       "        vertical-align: top;\n",
       "    }\n",
       "\n",
       "    .dataframe thead th {\n",
       "        text-align: right;\n",
       "    }\n",
       "</style>\n",
       "<table border=\"1\" class=\"dataframe\">\n",
       "  <thead>\n",
       "    <tr style=\"text-align: right;\">\n",
       "      <th></th>\n",
       "      <th>GR_API</th>\n",
       "      <th>Bulk Density, gcc</th>\n",
       "      <th>Resistivity, ohm-m</th>\n",
       "      <th>Water Saturation, fraction</th>\n",
       "      <th>PhiH, ft</th>\n",
       "      <th>TOC, fraction</th>\n",
       "      <th>TVD, ft</th>\n",
       "    </tr>\n",
       "  </thead>\n",
       "  <tbody>\n",
       "    <tr>\n",
       "      <th>count</th>\n",
       "      <td>438.000000</td>\n",
       "      <td>438.000000</td>\n",
       "      <td>438.000000</td>\n",
       "      <td>438.000000</td>\n",
       "      <td>438.000000</td>\n",
       "      <td>438.000000</td>\n",
       "      <td>438.000000</td>\n",
       "    </tr>\n",
       "    <tr>\n",
       "      <th>mean</th>\n",
       "      <td>157.972603</td>\n",
       "      <td>2.242265</td>\n",
       "      <td>22.438356</td>\n",
       "      <td>0.159863</td>\n",
       "      <td>20.283105</td>\n",
       "      <td>0.063221</td>\n",
       "      <td>9935.125571</td>\n",
       "    </tr>\n",
       "    <tr>\n",
       "      <th>std</th>\n",
       "      <td>30.396528</td>\n",
       "      <td>0.019978</td>\n",
       "      <td>7.971895</td>\n",
       "      <td>0.037465</td>\n",
       "      <td>3.187825</td>\n",
       "      <td>0.008410</td>\n",
       "      <td>827.981530</td>\n",
       "    </tr>\n",
       "    <tr>\n",
       "      <th>min</th>\n",
       "      <td>66.000000</td>\n",
       "      <td>2.209100</td>\n",
       "      <td>5.000000</td>\n",
       "      <td>0.100000</td>\n",
       "      <td>10.000000</td>\n",
       "      <td>0.032000</td>\n",
       "      <td>8046.000000</td>\n",
       "    </tr>\n",
       "    <tr>\n",
       "      <th>25%</th>\n",
       "      <td>139.000000</td>\n",
       "      <td>2.226425</td>\n",
       "      <td>17.000000</td>\n",
       "      <td>0.130000</td>\n",
       "      <td>19.000000</td>\n",
       "      <td>0.057000</td>\n",
       "      <td>9372.250000</td>\n",
       "    </tr>\n",
       "    <tr>\n",
       "      <th>50%</th>\n",
       "      <td>155.000000</td>\n",
       "      <td>2.239300</td>\n",
       "      <td>22.000000</td>\n",
       "      <td>0.150000</td>\n",
       "      <td>20.000000</td>\n",
       "      <td>0.065000</td>\n",
       "      <td>9844.500000</td>\n",
       "    </tr>\n",
       "    <tr>\n",
       "      <th>75%</th>\n",
       "      <td>178.000000</td>\n",
       "      <td>2.255925</td>\n",
       "      <td>26.000000</td>\n",
       "      <td>0.190000</td>\n",
       "      <td>22.000000</td>\n",
       "      <td>0.070000</td>\n",
       "      <td>10440.000000</td>\n",
       "    </tr>\n",
       "    <tr>\n",
       "      <th>max</th>\n",
       "      <td>259.000000</td>\n",
       "      <td>2.319600</td>\n",
       "      <td>49.000000</td>\n",
       "      <td>0.310000</td>\n",
       "      <td>33.000000</td>\n",
       "      <td>0.077000</td>\n",
       "      <td>12474.000000</td>\n",
       "    </tr>\n",
       "  </tbody>\n",
       "</table>\n",
       "</div>"
      ],
      "text/plain": [
       "           GR_API  Bulk Density, gcc  Resistivity, ohm-m  \\\n",
       "count  438.000000         438.000000          438.000000   \n",
       "mean   157.972603           2.242265           22.438356   \n",
       "std     30.396528           0.019978            7.971895   \n",
       "min     66.000000           2.209100            5.000000   \n",
       "25%    139.000000           2.226425           17.000000   \n",
       "50%    155.000000           2.239300           22.000000   \n",
       "75%    178.000000           2.255925           26.000000   \n",
       "max    259.000000           2.319600           49.000000   \n",
       "\n",
       "       Water Saturation, fraction    PhiH, ft  TOC, fraction       TVD, ft  \n",
       "count                  438.000000  438.000000     438.000000    438.000000  \n",
       "mean                     0.159863   20.283105       0.063221   9935.125571  \n",
       "std                      0.037465    3.187825       0.008410    827.981530  \n",
       "min                      0.100000   10.000000       0.032000   8046.000000  \n",
       "25%                      0.130000   19.000000       0.057000   9372.250000  \n",
       "50%                      0.150000   20.000000       0.065000   9844.500000  \n",
       "75%                      0.190000   22.000000       0.070000  10440.000000  \n",
       "max                      0.310000   33.000000       0.077000  12474.000000  "
      ]
     },
     "execution_count": 6,
     "metadata": {},
     "output_type": "execute_result"
    }
   ],
   "source": [
    "df.describe()"
   ]
  },
  {
   "cell_type": "markdown",
   "id": "25cec31c-44cf-4cb8-ae6c-e4cd874edf9f",
   "metadata": {},
   "source": [
    "## Null Check and Removal"
   ]
  },
  {
   "cell_type": "code",
   "execution_count": 39,
   "id": "840bdc00-0558-4516-8c2a-a6f016545fca",
   "metadata": {},
   "outputs": [
    {
     "data": {
      "text/plain": [
       "False"
      ]
     },
     "execution_count": 39,
     "metadata": {},
     "output_type": "execute_result"
    }
   ],
   "source": [
    "df.isnull().values.any()"
   ]
  },
  {
   "cell_type": "markdown",
   "id": "4b380342-d26d-4b01-8be8-97f511bcf422",
   "metadata": {},
   "source": [
    "## Data Standardization"
   ]
  },
  {
   "cell_type": "code",
   "execution_count": 23,
   "id": "29bca2eb-fcf6-449f-8df3-87db0863d90d",
   "metadata": {},
   "outputs": [],
   "source": [
    "X = df[['TVD, ft', 'GR_API', 'Bulk Density, gcc', 'Resistivity, ohm-m',\n",
    "       'Water Saturation, fraction', 'PhiH, ft', 'TOC, fraction']]"
   ]
  },
  {
   "cell_type": "code",
   "execution_count": 24,
   "id": "7f05174f-ee4b-40b8-86bf-1a1e63b2ccff",
   "metadata": {},
   "outputs": [
    {
     "data": {
      "text/html": [
       "<div>\n",
       "<style scoped>\n",
       "    .dataframe tbody tr th:only-of-type {\n",
       "        vertical-align: middle;\n",
       "    }\n",
       "\n",
       "    .dataframe tbody tr th {\n",
       "        vertical-align: top;\n",
       "    }\n",
       "\n",
       "    .dataframe thead th {\n",
       "        text-align: right;\n",
       "    }\n",
       "</style>\n",
       "<table border=\"1\" class=\"dataframe\">\n",
       "  <thead>\n",
       "    <tr style=\"text-align: right;\">\n",
       "      <th></th>\n",
       "      <th>TVD, ft</th>\n",
       "      <th>GR_API</th>\n",
       "      <th>Bulk Density, gcc</th>\n",
       "      <th>Resistivity, ohm-m</th>\n",
       "      <th>Water Saturation, fraction</th>\n",
       "      <th>PhiH, ft</th>\n",
       "      <th>TOC, fraction</th>\n",
       "    </tr>\n",
       "  </thead>\n",
       "  <tbody>\n",
       "    <tr>\n",
       "      <th>0</th>\n",
       "      <td>10670</td>\n",
       "      <td>118</td>\n",
       "      <td>2.2096</td>\n",
       "      <td>23</td>\n",
       "      <td>0.13</td>\n",
       "      <td>23</td>\n",
       "      <td>0.077</td>\n",
       "    </tr>\n",
       "    <tr>\n",
       "      <th>1</th>\n",
       "      <td>9932</td>\n",
       "      <td>170</td>\n",
       "      <td>2.2185</td>\n",
       "      <td>21</td>\n",
       "      <td>0.17</td>\n",
       "      <td>20</td>\n",
       "      <td>0.073</td>\n",
       "    </tr>\n",
       "    <tr>\n",
       "      <th>2</th>\n",
       "      <td>9747</td>\n",
       "      <td>166</td>\n",
       "      <td>2.2260</td>\n",
       "      <td>14</td>\n",
       "      <td>0.20</td>\n",
       "      <td>21</td>\n",
       "      <td>0.070</td>\n",
       "    </tr>\n",
       "    <tr>\n",
       "      <th>3</th>\n",
       "      <td>9747</td>\n",
       "      <td>166</td>\n",
       "      <td>2.2260</td>\n",
       "      <td>14</td>\n",
       "      <td>0.20</td>\n",
       "      <td>21</td>\n",
       "      <td>0.070</td>\n",
       "    </tr>\n",
       "    <tr>\n",
       "      <th>4</th>\n",
       "      <td>9222</td>\n",
       "      <td>135</td>\n",
       "      <td>2.2303</td>\n",
       "      <td>22</td>\n",
       "      <td>0.16</td>\n",
       "      <td>24</td>\n",
       "      <td>0.068</td>\n",
       "    </tr>\n",
       "    <tr>\n",
       "      <th>...</th>\n",
       "      <td>...</td>\n",
       "      <td>...</td>\n",
       "      <td>...</td>\n",
       "      <td>...</td>\n",
       "      <td>...</td>\n",
       "      <td>...</td>\n",
       "      <td>...</td>\n",
       "    </tr>\n",
       "    <tr>\n",
       "      <th>433</th>\n",
       "      <td>9605</td>\n",
       "      <td>123</td>\n",
       "      <td>2.2307</td>\n",
       "      <td>24</td>\n",
       "      <td>0.14</td>\n",
       "      <td>22</td>\n",
       "      <td>0.068</td>\n",
       "    </tr>\n",
       "    <tr>\n",
       "      <th>434</th>\n",
       "      <td>10086</td>\n",
       "      <td>141</td>\n",
       "      <td>2.2598</td>\n",
       "      <td>20</td>\n",
       "      <td>0.20</td>\n",
       "      <td>19</td>\n",
       "      <td>0.056</td>\n",
       "    </tr>\n",
       "    <tr>\n",
       "      <th>435</th>\n",
       "      <td>9008</td>\n",
       "      <td>157</td>\n",
       "      <td>2.2616</td>\n",
       "      <td>20</td>\n",
       "      <td>0.17</td>\n",
       "      <td>18</td>\n",
       "      <td>0.055</td>\n",
       "    </tr>\n",
       "    <tr>\n",
       "      <th>436</th>\n",
       "      <td>10397</td>\n",
       "      <td>142</td>\n",
       "      <td>2.2523</td>\n",
       "      <td>14</td>\n",
       "      <td>0.21</td>\n",
       "      <td>22</td>\n",
       "      <td>0.059</td>\n",
       "    </tr>\n",
       "    <tr>\n",
       "      <th>437</th>\n",
       "      <td>9390</td>\n",
       "      <td>148</td>\n",
       "      <td>2.2331</td>\n",
       "      <td>19</td>\n",
       "      <td>0.17</td>\n",
       "      <td>24</td>\n",
       "      <td>0.067</td>\n",
       "    </tr>\n",
       "  </tbody>\n",
       "</table>\n",
       "<p>438 rows × 7 columns</p>\n",
       "</div>"
      ],
      "text/plain": [
       "     TVD, ft  GR_API  Bulk Density, gcc  Resistivity, ohm-m  \\\n",
       "0      10670     118             2.2096                  23   \n",
       "1       9932     170             2.2185                  21   \n",
       "2       9747     166             2.2260                  14   \n",
       "3       9747     166             2.2260                  14   \n",
       "4       9222     135             2.2303                  22   \n",
       "..       ...     ...                ...                 ...   \n",
       "433     9605     123             2.2307                  24   \n",
       "434    10086     141             2.2598                  20   \n",
       "435     9008     157             2.2616                  20   \n",
       "436    10397     142             2.2523                  14   \n",
       "437     9390     148             2.2331                  19   \n",
       "\n",
       "     Water Saturation, fraction  PhiH, ft  TOC, fraction  \n",
       "0                          0.13        23          0.077  \n",
       "1                          0.17        20          0.073  \n",
       "2                          0.20        21          0.070  \n",
       "3                          0.20        21          0.070  \n",
       "4                          0.16        24          0.068  \n",
       "..                          ...       ...            ...  \n",
       "433                        0.14        22          0.068  \n",
       "434                        0.20        19          0.056  \n",
       "435                        0.17        18          0.055  \n",
       "436                        0.21        22          0.059  \n",
       "437                        0.17        24          0.067  \n",
       "\n",
       "[438 rows x 7 columns]"
      ]
     },
     "execution_count": 24,
     "metadata": {},
     "output_type": "execute_result"
    }
   ],
   "source": [
    "X"
   ]
  },
  {
   "cell_type": "code",
   "execution_count": 26,
   "id": "bbb076fd-2c07-46f1-86a2-fc8d13c4fa29",
   "metadata": {},
   "outputs": [],
   "source": [
    "from sklearn.preprocessing import StandardScaler\n",
    "\n",
    "sc = StandardScaler()\n",
    "X_scaled = sc.fit_transform(X)"
   ]
  },
  {
   "cell_type": "markdown",
   "id": "8077d139-b30d-409b-91f5-00f41b5454b7",
   "metadata": {},
   "source": [
    "# 2. Modelling"
   ]
  },
  {
   "cell_type": "markdown",
   "id": "3c685c00-72f9-423c-a577-12f692928a7c",
   "metadata": {},
   "source": [
    "## KMeans Cluster Modelling"
   ]
  },
  {
   "cell_type": "code",
   "execution_count": 35,
   "id": "786fdcc0-592d-49ec-8ba0-645dcb21278a",
   "metadata": {},
   "outputs": [],
   "source": [
    "import numpy as np\n",
    "from sklearn.cluster import KMeans\n",
    "from sklearn.metrics import rand_score, adjusted_rand_score, silhouette_score\n",
    "\n",
    "inertia_list = []\n",
    "rand_list = []\n",
    "adjusted_list = []\n",
    "silhouette_list = []\n",
    "n_cluster = np.arange(2, 15, 1)\n",
    "for i in n_cluster:\n",
    "    model = KMeans(n_clusters=i)\n",
    "    y_pred = model.fit_predict(X_scaled)\n",
    "    inertia_list.append(model.inertia_)\n",
    "    # rand_list.append(rand_score(y, y_pred))\n",
    "    # adjusted_list.append(adjusted_rand_score(y, y_pred))\n",
    "    silhouette_list.append(silhouette_score(X_scaled, y_pred))"
   ]
  },
  {
   "cell_type": "markdown",
   "id": "999a4870-1c6c-4c6b-8b04-07f96da7fa7d",
   "metadata": {},
   "source": [
    "## Elbow Plots"
   ]
  },
  {
   "cell_type": "code",
   "execution_count": 40,
   "id": "021a456c-25ab-468b-942d-f2d381abe5a6",
   "metadata": {},
   "outputs": [
    {
     "data": {
      "text/plain": [
       "Text(0.5, 1.0, 'Elbow Plot: Sum of Square')"
      ]
     },
     "execution_count": 40,
     "metadata": {},
     "output_type": "execute_result"
    },
    {
     "data": {
      "image/png": "[encoded data removed]",
      "text/plain": [
       "<Figure size 432x288 with 1 Axes>"
      ]
     },
     "metadata": {
      "needs_background": "light"
     },
     "output_type": "display_data"
    }
   ],
   "source": [
    "# fig, ax = plt.subplots()\n",
    "plt.plot(n_cluster, inertia_list)\n",
    "plt.xlabel('Number of Clusters \"K\"')\n",
    "plt.ylabel('Sum of Square')\n",
    "plt.grid()\n",
    "plt.title('Elbow Plot: Sum of Square')"
   ]
  },
  {
   "cell_type": "code",
   "execution_count": 41,
   "id": "0eb6d0ef-720e-431d-92c5-5e4f4793eebb",
   "metadata": {},
   "outputs": [
    {
     "data": {
      "text/plain": [
       "Text(0.5, 1.0, 'Elbow Plot: Silhouette Score')"
      ]
     },
     "execution_count": 41,
     "metadata": {},
     "output_type": "execute_result"
    },
    {
     "data": {
      "image/png": "[encoded data removed]",
      "text/plain": [
       "<Figure size 432x288 with 1 Axes>"
      ]
     },
     "metadata": {
      "needs_background": "light"
     },
     "output_type": "display_data"
    }
   ],
   "source": [
    "# fig, ax = plt.subplots()\n",
    "plt.plot(n_cluster, silhouette_list)\n",
    "plt.xlabel('Number of Clusters \"K\"')\n",
    "plt.ylabel('Silhouette Score')\n",
    "plt.ylim(0,1)\n",
    "plt.grid()\n",
    "plt.title('Elbow Plot: Silhouette Score')"
   ]
  },
  {
   "cell_type": "markdown",
   "id": "97c0298c-563e-47bc-a6f3-accb3041b494",
   "metadata": {},
   "source": [
    "# 3. Interpretation"
   ]
  },
  {
   "cell_type": "markdown",
   "id": "77ec99c1-dcc4-4bc9-8e1a-02c210785083",
   "metadata": {},
   "source": [
    "Berdasarkan dua elbow plot yang dihasilkan, dapat ditentukan jumlah cluster yang sesuai untuk data tersebut. Pada elbow plot untuk sum of square, nilainya selalu turun tiap pertambahan jumlah cluster. Dapat dilihat pada nilai cluster = 3, sum of square-nya cenderung \"patah\". Ini juga diperkuat dengan nilai silhouette score yang paling tinggi ketika nilai cluster = 3. Sehingga, jumlah cluster yang paling optimal adalah 3."
   ]
  }
 ],
 "metadata": {
  "kernelspec": {
   "display_name": "Python 3 (ipykernel)",
   "language": "python",
   "name": "python3"
  },
  "language_info": {
   "codemirror_mode": {
    "name": "ipython",
    "version": 3
   },
   "file_extension": ".py",
   "mimetype": "text/x-python",
   "name": "python",
   "nbconvert_exporter": "python",
   "pygments_lexer": "ipython3",
   "version": "3.9.10"
  }
 },
 "nbformat": 4,
 "nbformat_minor": 5
}
